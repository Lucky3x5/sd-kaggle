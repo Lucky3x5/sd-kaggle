{
  "nbformat": 4,
  "nbformat_minor": 0,
  "metadata": {
    "colab": {
      "private_outputs": true,
      "provenance": []
    },
    "kernelspec": {
      "name": "python3",
      "display_name": "Python 3"
    },
    "language_info": {
      "name": "python"
    },
    "accelerator": "GPU",
    "gpuClass": "standard"
  },
  "cells": [
    {
      "cell_type": "code",
      "execution_count": null,
      "metadata": {
        "id": "IinvY-jAnUVO"
      },
      "outputs": [],
      "source": [
        "!mkdir -p /kaggle/tmp\n",
        "%cd /kaggle/tmp\n",
        "!git clone https://github.com/Lucky3x5/sd-kaggle.git\n",
        "%cd /kaggle/tmp/sd-kaggle\n",
        "!git pull\n",
        "!git checkout testing\n",
        "%cd /kaggle/tmp\n",
        "%env SD_MODELS=https://huggingface.co/runwayml/stable-diffusion-v1-5/resolve/main/v1-5-pruned-emaonly.safetensors\n",
        "%env FORCE_REINSTALL=0\n",
        "!bash /kaggle/tmp/sd-kaggle/install-stable-diffusion-webui-training.sh\n",
        "%cd /kaggle/tmp/stable-diffusion-webui\n",
        "%env LD_PRELOAD=libtcmalloc.so\n",
        "%env VIRTUAL_ENV=/kaggle/tmp/stable-diffusion-webui/venv\n",
        "import os\n",
        "os.environ['PATH']='/kaggle/tmp/stable-diffusion-webui/venv/bin:'+os.environ['PATH']\n",
        "!COMMANDLINE_ARGS=\"--share --xformers --enable-insecure-extension- --gradio-queue --no-hashing\" REQS_FILE=\"requirements.txt\" python launch.py"
      ]
    },
    {
      "cell_type": "code",
      "execution_count": null,
      "metadata": {
        "id": "IinvY-jAnVVO"
      },
      "outputs": [],
      "source": [
        "!tar cf /kaggle/tmp/stable-diffusion-webui/textual_inversion | bzip2 -9 > /kaggle/working/textual_inversion.tar.bz2\n",
        "!tar cf /kaggle/tmp/stable-diffusion-webui/hypernetwork | bzip2 -9 > /kaggle/working/hypernetwork.tar.bz2\n"
      ]
    }
  ]
}
